{
 "cells": [
  {
   "cell_type": "markdown",
   "metadata": {},
   "source": [
    "# Latar Belakang\n",
    "TransJakarta adalah sistem transportasi bus rapid transit (BRT) yang beroperasi di Jakarta. Pemerintah DKI Jakarta dan PT TransJakarta terus melakukan evaluasi dan perluasan jaringan TransJakarta guna meningkatkan konektivitas transportasi publik di Jakarta. Perubahan dan perbaikan terus dilakukan oleh pihak TransJakarta untuk mengatasi permasalahan dan meningkatkan kualitas layanan. Perusahaan Transjakarta ingin mengoptimalkan pelayanan dengan mempertimbangkan penambahan atau pengurangan pada rute dengan penumpang yang tinggi."
   ]
  },
  {
   "cell_type": "markdown",
   "metadata": {},
   "source": [
    "# Pernyataan Masalah\n",
    "Perusahaan ingin mengetahui rute mana saja yang memiliki potensi paling tinggi serta jumlah penumpang yang padat untuk dijadikan tujuan dalam pengembangan transportasi, apakah diperlukannya penambahan armada atau tidak di trayek tertentu sehingga dapat mengoptimalkan pelayanan."
   ]
  },
  {
   "cell_type": "code",
   "execution_count": null,
   "metadata": {},
   "outputs": [],
   "source": [
    "import pandas as pd\n",
    "import numpy as np\n",
    "import matplotlib.pyplot as plt\n",
    "import seaborn as sns\n",
    "import plotly.express as px\n",
    "import scipy.stats as stats\n",
    "from scipy.stats import normaltest, chi2_contingency, mannwhitneyu, ttest_ind\n",
    "\n",
    "import warnings\n",
    "warnings.filterwarnings(\"ignore\")"
   ]
  },
  {
   "cell_type": "markdown",
   "metadata": {},
   "source": [
    "### Data Explanation\n",
    "Dataset TransJakarta Passengers 2021 memiliki 1473 baris dengan 6 kolom yaitu:\n",
    "- tahun: tahun dari data yang dimiliki\n",
    "- bulan: bulan dari data yang dimiliki\n",
    "- jenis: jenis bus yang digunakan\n",
    "- kode trayek: kode trayek yang dimiliki\n",
    "- trayek: nama trayek yang dimiliki\n",
    "- jumlah penumpang: jumlah penumpang yang dimilik"
   ]
  },
  {
   "cell_type": "code",
   "execution_count": 157,
   "metadata": {},
   "outputs": [
    {
     "data": {
      "text/html": [
       "<div>\n",
       "<style scoped>\n",
       "    .dataframe tbody tr th:only-of-type {\n",
       "        vertical-align: middle;\n",
       "    }\n",
       "\n",
       "    .dataframe tbody tr th {\n",
       "        vertical-align: top;\n",
       "    }\n",
       "\n",
       "    .dataframe thead th {\n",
       "        text-align: right;\n",
       "    }\n",
       "</style>\n",
       "<table border=\"1\" class=\"dataframe\">\n",
       "  <thead>\n",
       "    <tr style=\"text-align: right;\">\n",
       "      <th></th>\n",
       "      <th>tahun</th>\n",
       "      <th>bulan</th>\n",
       "      <th>jenis</th>\n",
       "      <th>kode_trayek</th>\n",
       "      <th>trayek</th>\n",
       "      <th>jumlah_penumpang</th>\n",
       "    </tr>\n",
       "  </thead>\n",
       "  <tbody>\n",
       "    <tr>\n",
       "      <th>0</th>\n",
       "      <td>2021</td>\n",
       "      <td>10</td>\n",
       "      <td>Mikrotrans</td>\n",
       "      <td>JAK.88</td>\n",
       "      <td>Terminal Tanjung Priok - Ancol Barat</td>\n",
       "      <td>31197</td>\n",
       "    </tr>\n",
       "    <tr>\n",
       "      <th>1</th>\n",
       "      <td>2021</td>\n",
       "      <td>10</td>\n",
       "      <td>Mikrotrans</td>\n",
       "      <td>JAK.85</td>\n",
       "      <td>Bintara - Cipinang Indah</td>\n",
       "      <td>30711</td>\n",
       "    </tr>\n",
       "    <tr>\n",
       "      <th>2</th>\n",
       "      <td>2021</td>\n",
       "      <td>10</td>\n",
       "      <td>Mikrotrans</td>\n",
       "      <td>JAK.84</td>\n",
       "      <td>Terminal Kampung Melayu - Kapin Raya</td>\n",
       "      <td>40186</td>\n",
       "    </tr>\n",
       "    <tr>\n",
       "      <th>3</th>\n",
       "      <td>2021</td>\n",
       "      <td>10</td>\n",
       "      <td>Mikrotrans</td>\n",
       "      <td>JAK.80</td>\n",
       "      <td>Rawa Buaya - Rawa Kompeni</td>\n",
       "      <td>61883</td>\n",
       "    </tr>\n",
       "    <tr>\n",
       "      <th>4</th>\n",
       "      <td>2021</td>\n",
       "      <td>10</td>\n",
       "      <td>Mikrotrans</td>\n",
       "      <td>JA.77</td>\n",
       "      <td>Tanjung Priok - Jembatan Item</td>\n",
       "      <td>66616</td>\n",
       "    </tr>\n",
       "  </tbody>\n",
       "</table>\n",
       "</div>"
      ],
      "text/plain": [
       "   tahun  bulan       jenis kode_trayek                                trayek  \\\n",
       "0  2021   10     Mikrotrans  JAK.88      Terminal Tanjung Priok - Ancol Barat   \n",
       "1  2021   10     Mikrotrans  JAK.85      Bintara - Cipinang Indah               \n",
       "2  2021   10     Mikrotrans  JAK.84      Terminal Kampung Melayu - Kapin Raya   \n",
       "3  2021   10     Mikrotrans  JAK.80      Rawa Buaya - Rawa Kompeni              \n",
       "4  2021   10     Mikrotrans  JA.77       Tanjung Priok - Jembatan Item          \n",
       "\n",
       "   jumlah_penumpang  \n",
       "0  31197             \n",
       "1  30711             \n",
       "2  40186             \n",
       "3  61883             \n",
       "4  66616             "
      ]
     },
     "metadata": {},
     "output_type": "display_data"
    },
    {
     "data": {
      "text/html": [
       "<div>\n",
       "<style scoped>\n",
       "    .dataframe tbody tr th:only-of-type {\n",
       "        vertical-align: middle;\n",
       "    }\n",
       "\n",
       "    .dataframe tbody tr th {\n",
       "        vertical-align: top;\n",
       "    }\n",
       "\n",
       "    .dataframe thead th {\n",
       "        text-align: right;\n",
       "    }\n",
       "</style>\n",
       "<table border=\"1\" class=\"dataframe\">\n",
       "  <thead>\n",
       "    <tr style=\"text-align: right;\">\n",
       "      <th></th>\n",
       "      <th>tahun</th>\n",
       "      <th>bulan</th>\n",
       "      <th>jenis</th>\n",
       "      <th>kode_trayek</th>\n",
       "      <th>trayek</th>\n",
       "      <th>jumlah_penumpang</th>\n",
       "    </tr>\n",
       "  </thead>\n",
       "  <tbody>\n",
       "    <tr>\n",
       "      <th>1468</th>\n",
       "      <td>2021</td>\n",
       "      <td>11</td>\n",
       "      <td>Angkutan Umum Integrasi</td>\n",
       "      <td>11Q</td>\n",
       "      <td>Kampung Melayu - Pulo Gebang via BKT</td>\n",
       "      <td>11353</td>\n",
       "    </tr>\n",
       "    <tr>\n",
       "      <th>1469</th>\n",
       "      <td>2021</td>\n",
       "      <td>11</td>\n",
       "      <td>Angkutan Umum Integrasi</td>\n",
       "      <td>11D</td>\n",
       "      <td>Pulo Gebang - Pulo Gadung 2 via PIK</td>\n",
       "      <td>59155</td>\n",
       "    </tr>\n",
       "    <tr>\n",
       "      <th>1470</th>\n",
       "      <td>2021</td>\n",
       "      <td>11</td>\n",
       "      <td>Angkutan Umum Integrasi</td>\n",
       "      <td>10K</td>\n",
       "      <td>Tanjung Priok - Senen via Taman  BMW</td>\n",
       "      <td>34498</td>\n",
       "    </tr>\n",
       "    <tr>\n",
       "      <th>1471</th>\n",
       "      <td>2021</td>\n",
       "      <td>11</td>\n",
       "      <td>Angkutan Umum Integrasi</td>\n",
       "      <td>GR4</td>\n",
       "      <td>Taman Kota Intan - Museum Bahari</td>\n",
       "      <td>4</td>\n",
       "    </tr>\n",
       "    <tr>\n",
       "      <th>1472</th>\n",
       "      <td>2021</td>\n",
       "      <td>11</td>\n",
       "      <td>Angkutan Umum Integrasi</td>\n",
       "      <td>GR5</td>\n",
       "      <td>Kota Tua Explorer</td>\n",
       "      <td>3</td>\n",
       "    </tr>\n",
       "  </tbody>\n",
       "</table>\n",
       "</div>"
      ],
      "text/plain": [
       "      tahun  bulan                    jenis kode_trayek  \\\n",
       "1468  2021   11     Angkutan Umum Integrasi  11Q          \n",
       "1469  2021   11     Angkutan Umum Integrasi  11D          \n",
       "1470  2021   11     Angkutan Umum Integrasi  10K          \n",
       "1471  2021   11     Angkutan Umum Integrasi  GR4          \n",
       "1472  2021   11     Angkutan Umum Integrasi  GR5          \n",
       "\n",
       "                                    trayek  jumlah_penumpang  \n",
       "1468  Kampung Melayu - Pulo Gebang via BKT  11353             \n",
       "1469  Pulo Gebang - Pulo Gadung 2 via PIK   59155             \n",
       "1470  Tanjung Priok - Senen via Taman  BMW  34498             \n",
       "1471  Taman Kota Intan - Museum Bahari      4                 \n",
       "1472  Kota Tua Explorer                     3                 "
      ]
     },
     "metadata": {},
     "output_type": "display_data"
    }
   ],
   "source": [
    "df=pd.read_csv('TransJakarta Passengers 2021.csv')\n",
    "display(df.head(),df.tail())"
   ]
  },
  {
   "cell_type": "markdown",
   "metadata": {},
   "source": [
    "### Data Understanding and Cleaning\n",
    "\n",
    "Sebelum kita memulai analisis, penting untuk memahami dataset kita dengan lebih baik melalui tahap \"pemahaman data\". Dalam proses ini, kita akan dapat mengetahui anomali-anomali yang ada dalam dataset kita dan perlu diperhatikan saat melakukan tahap \"pembersihan data\". Setiap tindakan yang diambil untuk menangani anomali akan disertai dengan alasan yang didasarkan pada pengetahuan domain maupun statistik.\n",
    "\n",
    "Pertama, mari kita periksa informasi tentang dataset Penumpang TransJakarta tahun 2021."
   ]
  },
  {
   "cell_type": "code",
   "execution_count": 158,
   "metadata": {},
   "outputs": [
    {
     "name": "stdout",
     "output_type": "stream",
     "text": [
      "total baris kolom di dataset df: (1473, 6)\n",
      "<class 'pandas.core.frame.DataFrame'>\n",
      "RangeIndex: 1473 entries, 0 to 1472\n",
      "Data columns (total 6 columns):\n",
      " #   Column            Non-Null Count  Dtype \n",
      "---  ------            --------------  ----- \n",
      " 0   tahun             1473 non-null   int64 \n",
      " 1   bulan             1473 non-null   int64 \n",
      " 2   jenis             1473 non-null   object\n",
      " 3   kode_trayek       1473 non-null   object\n",
      " 4   trayek            1471 non-null   object\n",
      " 5   jumlah_penumpang  1473 non-null   int64 \n",
      "dtypes: int64(3), object(3)\n",
      "memory usage: 69.2+ KB\n"
     ]
    }
   ],
   "source": [
    "print(f'total baris kolom di dataset df: {df.shape}')\n",
    "df.info()"
   ]
  },
  {
   "cell_type": "code",
   "execution_count": 159,
   "metadata": {},
   "outputs": [
    {
     "data": {
      "text/html": [
       "<div>\n",
       "<style scoped>\n",
       "    .dataframe tbody tr th:only-of-type {\n",
       "        vertical-align: middle;\n",
       "    }\n",
       "\n",
       "    .dataframe tbody tr th {\n",
       "        vertical-align: top;\n",
       "    }\n",
       "\n",
       "    .dataframe thead th {\n",
       "        text-align: right;\n",
       "    }\n",
       "</style>\n",
       "<table border=\"1\" class=\"dataframe\">\n",
       "  <thead>\n",
       "    <tr style=\"text-align: right;\">\n",
       "      <th></th>\n",
       "      <th>tahun</th>\n",
       "      <th>bulan</th>\n",
       "      <th>jumlah_penumpang</th>\n",
       "    </tr>\n",
       "  </thead>\n",
       "  <tbody>\n",
       "    <tr>\n",
       "      <th>count</th>\n",
       "      <td>1473.0</td>\n",
       "      <td>1473.000000</td>\n",
       "      <td>1.473000e+03</td>\n",
       "    </tr>\n",
       "    <tr>\n",
       "      <th>mean</th>\n",
       "      <td>2021.0</td>\n",
       "      <td>6.534963</td>\n",
       "      <td>8.167586e+04</td>\n",
       "    </tr>\n",
       "    <tr>\n",
       "      <th>std</th>\n",
       "      <td>0.0</td>\n",
       "      <td>3.446451</td>\n",
       "      <td>1.265331e+05</td>\n",
       "    </tr>\n",
       "    <tr>\n",
       "      <th>min</th>\n",
       "      <td>2021.0</td>\n",
       "      <td>1.000000</td>\n",
       "      <td>0.000000e+00</td>\n",
       "    </tr>\n",
       "    <tr>\n",
       "      <th>25%</th>\n",
       "      <td>2021.0</td>\n",
       "      <td>4.000000</td>\n",
       "      <td>2.501600e+04</td>\n",
       "    </tr>\n",
       "    <tr>\n",
       "      <th>50%</th>\n",
       "      <td>2021.0</td>\n",
       "      <td>7.000000</td>\n",
       "      <td>4.962800e+04</td>\n",
       "    </tr>\n",
       "    <tr>\n",
       "      <th>75%</th>\n",
       "      <td>2021.0</td>\n",
       "      <td>10.000000</td>\n",
       "      <td>7.513800e+04</td>\n",
       "    </tr>\n",
       "    <tr>\n",
       "      <th>max</th>\n",
       "      <td>2021.0</td>\n",
       "      <td>12.000000</td>\n",
       "      <td>1.131439e+06</td>\n",
       "    </tr>\n",
       "  </tbody>\n",
       "</table>\n",
       "</div>"
      ],
      "text/plain": [
       "        tahun        bulan  jumlah_penumpang\n",
       "count  1473.0  1473.000000  1.473000e+03    \n",
       "mean   2021.0  6.534963     8.167586e+04    \n",
       "std    0.0     3.446451     1.265331e+05    \n",
       "min    2021.0  1.000000     0.000000e+00    \n",
       "25%    2021.0  4.000000     2.501600e+04    \n",
       "50%    2021.0  7.000000     4.962800e+04    \n",
       "75%    2021.0  10.000000    7.513800e+04    \n",
       "max    2021.0  12.000000    1.131439e+06    "
      ]
     },
     "metadata": {},
     "output_type": "display_data"
    },
    {
     "data": {
      "text/html": [
       "<div>\n",
       "<style scoped>\n",
       "    .dataframe tbody tr th:only-of-type {\n",
       "        vertical-align: middle;\n",
       "    }\n",
       "\n",
       "    .dataframe tbody tr th {\n",
       "        vertical-align: top;\n",
       "    }\n",
       "\n",
       "    .dataframe thead th {\n",
       "        text-align: right;\n",
       "    }\n",
       "</style>\n",
       "<table border=\"1\" class=\"dataframe\">\n",
       "  <thead>\n",
       "    <tr style=\"text-align: right;\">\n",
       "      <th></th>\n",
       "      <th>jenis</th>\n",
       "      <th>kode_trayek</th>\n",
       "      <th>trayek</th>\n",
       "    </tr>\n",
       "  </thead>\n",
       "  <tbody>\n",
       "    <tr>\n",
       "      <th>count</th>\n",
       "      <td>1473</td>\n",
       "      <td>1473</td>\n",
       "      <td>1471</td>\n",
       "    </tr>\n",
       "    <tr>\n",
       "      <th>unique</th>\n",
       "      <td>3</td>\n",
       "      <td>135</td>\n",
       "      <td>136</td>\n",
       "    </tr>\n",
       "    <tr>\n",
       "      <th>top</th>\n",
       "      <td>Mikrotrans</td>\n",
       "      <td>JAK.88</td>\n",
       "      <td>Cililitan - Condet via Kayu Manis</td>\n",
       "    </tr>\n",
       "    <tr>\n",
       "      <th>freq</th>\n",
       "      <td>848</td>\n",
       "      <td>12</td>\n",
       "      <td>24</td>\n",
       "    </tr>\n",
       "  </tbody>\n",
       "</table>\n",
       "</div>"
      ],
      "text/plain": [
       "             jenis kode_trayek                             trayek\n",
       "count   1473        1473        1471                             \n",
       "unique  3           135         136                              \n",
       "top     Mikrotrans  JAK.88      Cililitan - Condet via Kayu Manis\n",
       "freq    848         12          24                               "
      ]
     },
     "metadata": {},
     "output_type": "display_data"
    }
   ],
   "source": [
    "display(df.describe(), df.describe(include='object'))"
   ]
  },
  {
   "cell_type": "code",
   "execution_count": 160,
   "metadata": {},
   "outputs": [
    {
     "data": {
      "text/html": [
       "<div>\n",
       "<style scoped>\n",
       "    .dataframe tbody tr th:only-of-type {\n",
       "        vertical-align: middle;\n",
       "    }\n",
       "\n",
       "    .dataframe tbody tr th {\n",
       "        vertical-align: top;\n",
       "    }\n",
       "\n",
       "    .dataframe thead th {\n",
       "        text-align: right;\n",
       "    }\n",
       "</style>\n",
       "<table border=\"1\" class=\"dataframe\">\n",
       "  <thead>\n",
       "    <tr style=\"text-align: right;\">\n",
       "      <th></th>\n",
       "      <th>feature</th>\n",
       "      <th>data_type</th>\n",
       "      <th>null_value</th>\n",
       "      <th>%null_value</th>\n",
       "      <th>n_unique</th>\n",
       "      <th>sample_unique</th>\n",
       "    </tr>\n",
       "  </thead>\n",
       "  <tbody>\n",
       "    <tr>\n",
       "      <th>0</th>\n",
       "      <td>tahun</td>\n",
       "      <td>int64</td>\n",
       "      <td>0</td>\n",
       "      <td>0.000000</td>\n",
       "      <td>1</td>\n",
       "      <td>[2021]</td>\n",
       "    </tr>\n",
       "    <tr>\n",
       "      <th>1</th>\n",
       "      <td>bulan</td>\n",
       "      <td>int64</td>\n",
       "      <td>0</td>\n",
       "      <td>0.000000</td>\n",
       "      <td>12</td>\n",
       "      <td>[10, 8, 3, 6, 1, 5, 12, 9, 2, 7, 4, 11]</td>\n",
       "    </tr>\n",
       "    <tr>\n",
       "      <th>2</th>\n",
       "      <td>jenis</td>\n",
       "      <td>object</td>\n",
       "      <td>0</td>\n",
       "      <td>0.000000</td>\n",
       "      <td>3</td>\n",
       "      <td>[Mikrotrans, BRT, Angkutan Umum Integrasi]</td>\n",
       "    </tr>\n",
       "    <tr>\n",
       "      <th>3</th>\n",
       "      <td>kode_trayek</td>\n",
       "      <td>object</td>\n",
       "      <td>0</td>\n",
       "      <td>0.000000</td>\n",
       "      <td>135</td>\n",
       "      <td>[JAK.88, JAK.85, JAK.84, JAK.80, JA.77, JAK.75, JAK.74, JAK.73, JAK.72, JAK.71, JAK.64, JAK.61, JAK.60, JAK.59, JAK.58, JAK.56, JAK.54, JAK.53, JAK.52, JAK.51, JAK.50, JAK.49, JAK.47, JAK.46, JAK.45, JAK.44, JAK.43, JAK.42, JAK.41, JAK.40, JAK.39, JAK.38, JAK.37, JAK.36, JAK.35, JAK.34, JAK.33, JAK.32, JAK.31, JAK.30, JAK.29, JAK.28, JAK.27, JAK.26, JAK.25, JAK.24, JAK.22, JAK.21, JAK.20, JAK,19, JAK.18, JAK.17, JAK.16, JAK.15, JAK.14, JAK.13, JAK.12, JAK.117, JAK.112, JAK.11, JAK.10, JAK.09, JAK.08, JAK.07, JAK.06, JAK.05, JAK.04, JAK.03, JAK.02, JAK.01, 9, 8, 7, 6, 5, 4, 3, 2, 13, 12, 11, 10, 1, 9H, 9E, 9D, 8K, 8E, 8D, 8C, 7P, 7D, 7B, 7A, 6R, 6N, 6M, 6H, 6C, 5M, ...]</td>\n",
       "    </tr>\n",
       "    <tr>\n",
       "      <th>4</th>\n",
       "      <td>trayek</td>\n",
       "      <td>object</td>\n",
       "      <td>2</td>\n",
       "      <td>0.135777</td>\n",
       "      <td>136</td>\n",
       "      <td>[Terminal Tanjung Priok - Ancol Barat, Bintara - Cipinang Indah, Terminal Kampung Melayu - Kapin Raya, Rawa Buaya - Rawa Kompeni, Tanjung Priok - Jembatan Item, Cililitan - Kp. Pulo, Terminal Rawamangun - Cipinang Muara, Jambore Cibubur - Pasar Rebo, Kampung Rambutan - Pasar Rebo via Poncol, Kampung Rambutan - Pinang Ranti, Lenteng Agung - Aseli, Cempaka Putih - Pulo Gadung via Kelapa Gading, Kelapa Gading - Rusun Kemayoran, Rawamangun - Tanah Merah, Cilingcing - Rorotan, Grogol - Srengseng, Grogol - Benhil, Grogol - Pos Pengumben via Slipi, Kalideres - Muara Angke, Taman Kota - Budi Luhur, Kalideres - Puri Kembangan, Lebak Bulus - Cipulir, Pasar Minggu - Ciganjur via KB Ragunan, Pasar Minggu - Jagakarsa, Lebak Bulus - Ragunan, Andara - Stasiun Universitas Pancasila, Tongtek - Cililitan, Kampung Melayu - Pondok Kelapa, Kampung Melayu - Ppulo Gadung, Harapan Baru - Pulo Gebang via Rawa Kuning, Kalimalang - Duren Sawit, Bulak Ringin - Kampung Rambutan, Cililitan - Condet via Kayu Manis, Cilangkap - Cililitan, Pangkalan  Jati - Rawamangun, Rawamangun - Klender, Pulo Gadung - Kota, Lebak Bulus - Petukangan, Blok M - Andara, Grogol - Meruya via Roxy, Tanjung Priok - Sukapura, Kp. Rambutan - Taman Wiladatika, Pulo Gebang - Rorotan, Rawamangun - Duren Sawit, Kp. Rambutan - Kalisari, Senen - Pulo Gadung via Kelapa Gading, Dwikora - Penas Kalimalang, Cililitan - Dwikora, Cawang UKI - Lubang Buaya, Pinang Ranti - Kampung Rambutan, Kalibata - Kuningan, Senen - Pulo Gadung , Bulak Turi - Tanjung Priok, Tanah Abang - Meruya, Tanah Abang - Kota Intan via Jembatan Lima, Tanah Abang - Kebayoran Lama via Pos Pengumben, Tanjung Priok - Tanah Merdeka, Terminal Tanah Merah - Pulo Gadung, Tanah Abang - Kebayoran Lama , Tanah Abang - Kota , Roxy Mas - Karet, Roxy - Benhil, Tanah Abang - Grogol via Tawakal, Kampung Rambutan - Pondok Gede, Semper - Rorotan, Grogol - Tubagus Angke, Lebak Bulus - Andara, Kampung Melayu - Duren Sawit, Tanjung Priok - Plumpang, Pinang Ranti - Pluit, Lebak Bulus - Harmoni, Kampung Rambutan - Kampung Melayu, Ragunan - Dukuh Atas 2, Kampung Melayu - Ancol, Pulo Gadung 2 - Tosari, Kalideres - Pasar Baru, Pulo Gadung 1 - Harmoni, Ciledug - Tendean, Penjaringan - Sunter Bouleverd Barat, Pulo Gebang - Kampung Melayu, Tanjung Priok - PGC 2, Blok M - Kota, Cipedak - Blok M, Kebayoran Lama - Jelambar, Pasar Minggu - Tanah Abang, Batu Sari-Tanah Abang, Bintaro - Blok M, Joglo - Blok M, Kebayoran Lama - Tanah Abang, Pondok Kelapa - BKN, Pancoran - TMII, Kampung Rambutan - Blok M, Kampung Rambutan - Lebak Bulus, Ragunan - Stasin MRT Fatmawati, Ragunan - Blok M via Kemang, Stasiun Manggarai - Blok  M, Senen - Lebak Bulus, Stasin Tebet - Karet via Patra Kuningan, Kampung Melayu - Tanah Abang via Cikini, Kampung Melayu - Tanah Abang, ...]</td>\n",
       "    </tr>\n",
       "    <tr>\n",
       "      <th>5</th>\n",
       "      <td>jumlah_penumpang</td>\n",
       "      <td>int64</td>\n",
       "      <td>0</td>\n",
       "      <td>0.000000</td>\n",
       "      <td>1420</td>\n",
       "      <td>[31197, 30711, 40186, 61883, 66616, 50363, 50676, 75846, 97831, 57649, 52926, 35233, 69665, 72106, 91654, 49293, 41815, 46344, 65266, 104140, 69097, 44014, 50597, 83425, 48167, 64885, 94923, 71096, 46177, 41534, 63975, 46304, 59214, 64162, 32715, 69978, 51615, 79962, 60715, 133054, 117647, 62587, 51771, 43232, 49474, 80125, 20483, 73032, 53380, 99743, 36622, 51089, 83100, 120526, 91917, 18200, 69299, 93413, 73467, 78213, 49482, 28495, 41236, 56372, 64505, 65429, 50863, 37131, 48317, 65293, 670052, 442361, 376261, 348321, 430590, 274326, 466445, 331229, 307410, 140853, 135543, 369184, 903783, 16256, 16905, 81799, 8122, 18112, 24637, 0, 25384, 20689, 77492, 80151, 25776, 19821, 18839, 93175, 78012, 14392, ...]</td>\n",
       "    </tr>\n",
       "  </tbody>\n",
       "</table>\n",
       "</div>"
      ],
      "text/plain": [
       "            feature data_type  null_value  %null_value  n_unique  \\\n",
       "0  tahun             int64     0           0.000000     1          \n",
       "1  bulan             int64     0           0.000000     12         \n",
       "2  jenis             object    0           0.000000     3          \n",
       "3  kode_trayek       object    0           0.000000     135        \n",
       "4  trayek            object    2           0.135777     136        \n",
       "5  jumlah_penumpang  int64     0           0.000000     1420       \n",
       "\n",
       "                                                                                                                                                                                                                                                                                                                                                                                                                                                                                                                                                                                                                                                                                                                                                                                                                                                                                                                                                                                                                                                                                                                                                                                                                                                                                                                                                                                                                                                                                                                                                                                                                                                                                                                                                                                                                                                                                                                                                                                                                                                                                                                                                                                                                                                                                                                                                                                                                                                                                                                                                                                                                                                                                                                                                                                                                                                                                sample_unique  \n",
       "0  [2021]                                                                                                                                                                                                                                                                                                                                                                                                                                                                                                                                                                                                                                                                                                                                                                                                                                                                                                                                                                                                                                                                                                                                                                                                                                                                                                                                                                                                                                                                                                                                                                                                                                                                                                                                                                                                                                                                                                                                                                                                                                                                                                                                                                                                                                                                                                                                                                                                                                                                                                                                                                                                                                                                                                                                                                                                                                                                                      \n",
       "1  [10, 8, 3, 6, 1, 5, 12, 9, 2, 7, 4, 11]                                                                                                                                                                                                                                                                                                                                                                                                                                                                                                                                                                                                                                                                                                                                                                                                                                                                                                                                                                                                                                                                                                                                                                                                                                                                                                                                                                                                                                                                                                                                                                                                                                                                                                                                                                                                                                                                                                                                                                                                                                                                                                                                                                                                                                                                                                                                                                                                                                                                                                                                                                                                                                                                                                                                                                                                                                                     \n",
       "2  [Mikrotrans, BRT, Angkutan Umum Integrasi]                                                                                                                                                                                                                                                                                                                                                                                                                                                                                                                                                                                                                                                                                                                                                                                                                                                                                                                                                                                                                                                                                                                                                                                                                                                                                                                                                                                                                                                                                                                                                                                                                                                                                                                                                                                                                                                                                                                                                                                                                                                                                                                                                                                                                                                                                                                                                                                                                                                                                                                                                                                                                                                                                                                                                                                                                                                  \n",
       "3  [JAK.88, JAK.85, JAK.84, JAK.80, JA.77, JAK.75, JAK.74, JAK.73, JAK.72, JAK.71, JAK.64, JAK.61, JAK.60, JAK.59, JAK.58, JAK.56, JAK.54, JAK.53, JAK.52, JAK.51, JAK.50, JAK.49, JAK.47, JAK.46, JAK.45, JAK.44, JAK.43, JAK.42, JAK.41, JAK.40, JAK.39, JAK.38, JAK.37, JAK.36, JAK.35, JAK.34, JAK.33, JAK.32, JAK.31, JAK.30, JAK.29, JAK.28, JAK.27, JAK.26, JAK.25, JAK.24, JAK.22, JAK.21, JAK.20, JAK,19, JAK.18, JAK.17, JAK.16, JAK.15, JAK.14, JAK.13, JAK.12, JAK.117, JAK.112, JAK.11, JAK.10, JAK.09, JAK.08, JAK.07, JAK.06, JAK.05, JAK.04, JAK.03, JAK.02, JAK.01, 9, 8, 7, 6, 5, 4, 3, 2, 13, 12, 11, 10, 1, 9H, 9E, 9D, 8K, 8E, 8D, 8C, 7P, 7D, 7B, 7A, 6R, 6N, 6M, 6H, 6C, 5M, ...]                                                                                                                                                                                                                                                                                                                                                                                                                                                                                                                                                                                                                                                                                                                                                                                                                                                                                                                                                                                                                                                                                                                                                                                                                                                                                                                                                                                                                                                                                                                                                                                                                                                                                                                                                                                                                                                                                                                                                                                                                                                                                                                                                                                       \n",
       "4  [Terminal Tanjung Priok - Ancol Barat, Bintara - Cipinang Indah, Terminal Kampung Melayu - Kapin Raya, Rawa Buaya - Rawa Kompeni, Tanjung Priok - Jembatan Item, Cililitan - Kp. Pulo, Terminal Rawamangun - Cipinang Muara, Jambore Cibubur - Pasar Rebo, Kampung Rambutan - Pasar Rebo via Poncol, Kampung Rambutan - Pinang Ranti, Lenteng Agung - Aseli, Cempaka Putih - Pulo Gadung via Kelapa Gading, Kelapa Gading - Rusun Kemayoran, Rawamangun - Tanah Merah, Cilingcing - Rorotan, Grogol - Srengseng, Grogol - Benhil, Grogol - Pos Pengumben via Slipi, Kalideres - Muara Angke, Taman Kota - Budi Luhur, Kalideres - Puri Kembangan, Lebak Bulus - Cipulir, Pasar Minggu - Ciganjur via KB Ragunan, Pasar Minggu - Jagakarsa, Lebak Bulus - Ragunan, Andara - Stasiun Universitas Pancasila, Tongtek - Cililitan, Kampung Melayu - Pondok Kelapa, Kampung Melayu - Ppulo Gadung, Harapan Baru - Pulo Gebang via Rawa Kuning, Kalimalang - Duren Sawit, Bulak Ringin - Kampung Rambutan, Cililitan - Condet via Kayu Manis, Cilangkap - Cililitan, Pangkalan  Jati - Rawamangun, Rawamangun - Klender, Pulo Gadung - Kota, Lebak Bulus - Petukangan, Blok M - Andara, Grogol - Meruya via Roxy, Tanjung Priok - Sukapura, Kp. Rambutan - Taman Wiladatika, Pulo Gebang - Rorotan, Rawamangun - Duren Sawit, Kp. Rambutan - Kalisari, Senen - Pulo Gadung via Kelapa Gading, Dwikora - Penas Kalimalang, Cililitan - Dwikora, Cawang UKI - Lubang Buaya, Pinang Ranti - Kampung Rambutan, Kalibata - Kuningan, Senen - Pulo Gadung , Bulak Turi - Tanjung Priok, Tanah Abang - Meruya, Tanah Abang - Kota Intan via Jembatan Lima, Tanah Abang - Kebayoran Lama via Pos Pengumben, Tanjung Priok - Tanah Merdeka, Terminal Tanah Merah - Pulo Gadung, Tanah Abang - Kebayoran Lama , Tanah Abang - Kota , Roxy Mas - Karet, Roxy - Benhil, Tanah Abang - Grogol via Tawakal, Kampung Rambutan - Pondok Gede, Semper - Rorotan, Grogol - Tubagus Angke, Lebak Bulus - Andara, Kampung Melayu - Duren Sawit, Tanjung Priok - Plumpang, Pinang Ranti - Pluit, Lebak Bulus - Harmoni, Kampung Rambutan - Kampung Melayu, Ragunan - Dukuh Atas 2, Kampung Melayu - Ancol, Pulo Gadung 2 - Tosari, Kalideres - Pasar Baru, Pulo Gadung 1 - Harmoni, Ciledug - Tendean, Penjaringan - Sunter Bouleverd Barat, Pulo Gebang - Kampung Melayu, Tanjung Priok - PGC 2, Blok M - Kota, Cipedak - Blok M, Kebayoran Lama - Jelambar, Pasar Minggu - Tanah Abang, Batu Sari-Tanah Abang, Bintaro - Blok M, Joglo - Blok M, Kebayoran Lama - Tanah Abang, Pondok Kelapa - BKN, Pancoran - TMII, Kampung Rambutan - Blok M, Kampung Rambutan - Lebak Bulus, Ragunan - Stasin MRT Fatmawati, Ragunan - Blok M via Kemang, Stasiun Manggarai - Blok  M, Senen - Lebak Bulus, Stasin Tebet - Karet via Patra Kuningan, Kampung Melayu - Tanah Abang via Cikini, Kampung Melayu - Tanah Abang, ...]  \n",
       "5  [31197, 30711, 40186, 61883, 66616, 50363, 50676, 75846, 97831, 57649, 52926, 35233, 69665, 72106, 91654, 49293, 41815, 46344, 65266, 104140, 69097, 44014, 50597, 83425, 48167, 64885, 94923, 71096, 46177, 41534, 63975, 46304, 59214, 64162, 32715, 69978, 51615, 79962, 60715, 133054, 117647, 62587, 51771, 43232, 49474, 80125, 20483, 73032, 53380, 99743, 36622, 51089, 83100, 120526, 91917, 18200, 69299, 93413, 73467, 78213, 49482, 28495, 41236, 56372, 64505, 65429, 50863, 37131, 48317, 65293, 670052, 442361, 376261, 348321, 430590, 274326, 466445, 331229, 307410, 140853, 135543, 369184, 903783, 16256, 16905, 81799, 8122, 18112, 24637, 0, 25384, 20689, 77492, 80151, 25776, 19821, 18839, 93175, 78012, 14392, ...]                                                                                                                                                                                                                                                                                                                                                                                                                                                                                                                                                                                                                                                                                                                                                                                                                                                                                                                                                                                                                                                                                                                                                                                                                                                                                                                                                                                                                                                                                                                                                                                                                                                                                                                                                                                                                                                                                                                                                                                                                                                                                                                                               "
      ]
     },
     "execution_count": 160,
     "metadata": {},
     "output_type": "execute_result"
    }
   ],
   "source": [
    "pd.set_option('display.max_colwidth', 1)\n",
    "pd.DataFrame(\n",
    "    {\n",
    "    'feature': df.columns.values,\n",
    "    'data_type': df.dtypes.values,\n",
    "    'null_value': [df[col].isna().sum() for col in df.columns],\n",
    "    '%null_value': df.isna().mean().values * 100,\n",
    "    'n_unique': df.nunique().values,\n",
    "    'sample_unique': [df[col].unique() for col in df.columns]\n",
    "    }\n",
    ")"
   ]
  },
  {
   "cell_type": "markdown",
   "metadata": {},
   "source": [
    "### Missing Value"
   ]
  },
  {
   "cell_type": "code",
   "execution_count": 161,
   "metadata": {},
   "outputs": [
    {
     "data": {
      "text/plain": [
       "tahun               0\n",
       "bulan               0\n",
       "jenis               0\n",
       "kode_trayek         0\n",
       "trayek              2\n",
       "jumlah_penumpang    0\n",
       "dtype: int64"
      ]
     },
     "execution_count": 161,
     "metadata": {},
     "output_type": "execute_result"
    }
   ],
   "source": [
    "df.isnull().sum()"
   ]
  },
  {
   "cell_type": "code",
   "execution_count": 162,
   "metadata": {},
   "outputs": [
    {
     "data": {
      "text/plain": [
       "<Axes: >"
      ]
     },
     "execution_count": 162,
     "metadata": {},
     "output_type": "execute_result"
    },
    {
     "data": {
      "image/png": "[encoded data removed]",
      "text/plain": [
       "<Figure size 1000x1000 with 2 Axes>"
      ]
     },
     "metadata": {},
     "output_type": "display_data"
    }
   ],
   "source": [
    "# Sebaran missing value di dalam data\n",
    "plt.figure(figsize=(10,10))\n",
    "sns.heatmap(df[['tahun','bulan','jenis','kode_trayek','trayek','jumlah_penumpang']].isna())"
   ]
  },
  {
   "cell_type": "code",
   "execution_count": 163,
   "metadata": {},
   "outputs": [
    {
     "data": {
      "text/plain": [
       "tahun               0.000000\n",
       "bulan               0.000000\n",
       "jenis               0.000000\n",
       "kode_trayek         0.000000\n",
       "trayek              0.135777\n",
       "jumlah_penumpang    0.000000\n",
       "dtype: float64"
      ]
     },
     "execution_count": 163,
     "metadata": {},
     "output_type": "execute_result"
    }
   ],
   "source": [
    "# persentase missing value di tiap kolom\n",
    "df.isna().sum()/df.shape[0]*100"
   ]
  },
  {
   "cell_type": "code",
   "execution_count": 164,
   "metadata": {},
   "outputs": [],
   "source": [
    "#hapus data yang kosong\n",
    "df = df.dropna()"
   ]
  },
  {
   "cell_type": "markdown",
   "metadata": {},
   "source": [
    "### Checking Data Duplikat"
   ]
  },
  {
   "cell_type": "code",
   "execution_count": 165,
   "metadata": {},
   "outputs": [
    {
     "name": "stdout",
     "output_type": "stream",
     "text": [
      "jumlah data duplikat: 0\n"
     ]
    }
   ],
   "source": [
    "# cek duplikat\n",
    "print(f'jumlah data duplikat: {df[df.duplicated()].shape[0]}')"
   ]
  },
  {
   "cell_type": "code",
   "execution_count": 166,
   "metadata": {},
   "outputs": [],
   "source": [
    "#saving data cleaning\n",
    "df.describe()\n",
    "df.to_csv(\"cleaning.csv\")"
   ]
  },
  {
   "cell_type": "markdown",
   "metadata": {},
   "source": [
    "Dari data diatas, kita bisa melihat bahwa:\n",
    "\n",
    "- Dataset Transjakarta Passengers 2021 memiliki 1473 baris dan 6 kolom\n",
    "- Setelah dilakukan drop missing value kita memiliki 1471 baris.\n",
    "- Terdapat data kosong pada kolom trayek yaitu dengan isi datanya adalah NaN. Pada index ke 795 dan 796."
   ]
  },
  {
   "cell_type": "markdown",
   "metadata": {},
   "source": [
    "### Data Analysis"
   ]
  },
  {
   "cell_type": "code",
   "execution_count": 167,
   "metadata": {},
   "outputs": [
    {
     "data": {
      "text/plain": [
       "1131439"
      ]
     },
     "execution_count": 167,
     "metadata": {},
     "output_type": "execute_result"
    }
   ],
   "source": [
    "df['jumlah_penumpang'].max()"
   ]
  },
  {
   "cell_type": "markdown",
   "metadata": {},
   "source": [
    "### Berdasarkan asal Trayek  \n",
    "\n",
    "Pertama, mari kita lihat bagaimana pengaruh trayek yang digunakan terhadap jumlah penumpang yang digunakan. Kita akan menganalisis kolom  `trayek` dan `jumlah_penumpang` untuk menjawab beberapa pertanyaan.\n",
    "\n",
    "* Trayek yang memiliki paling banyak jumlah penumpang?"
   ]
  },
  {
   "cell_type": "code",
   "execution_count": 168,
   "metadata": {},
   "outputs": [
    {
     "data": {
      "text/plain": [
       "trayek\n",
       "Cililitan - Condet via Kayu Manis              24\n",
       "Terminal Tanjung Priok - Ancol Barat           12\n",
       "Batu Sari-Tanah Abang                          12\n",
       "Kebayoran Lama - Jelambar                      12\n",
       "Blok M - Kota                                  12\n",
       "                                               ..\n",
       "Ragunan - Departemen Pertanian                 1 \n",
       "Kampung Melayu - Pulo Gadung                   1 \n",
       "Gondangdia - Cikini via Kramat Jaya            1 \n",
       "Dukuh Atas - Casablanca via Epicentrum Raya    1 \n",
       "Pelabuhan Kaliadem - Kota                      1 \n",
       "Name: count, Length: 136, dtype: int64"
      ]
     },
     "execution_count": 168,
     "metadata": {},
     "output_type": "execute_result"
    }
   ],
   "source": [
    "df['trayek'].value_counts()"
   ]
  },
  {
   "cell_type": "markdown",
   "metadata": {},
   "source": [
    "Dari di atas, trayek Cililitan - Condet via Kayu Manis memiliki total 24 keberengkatan selama 12 bulan di tahun 2021. Namun jika dilihat berdasarkan banyaknya jumlah penumpang, rute Blok M - Kota memiliki jumlah penumpang terbanyak. Sehingga kita akan memilih trayek Blok M - Kota untuk dapat dilakukan analisa lebih lanjut."
   ]
  },
  {
   "cell_type": "markdown",
   "metadata": {},
   "source": [
    "### Variabel khusus yang akan diteliti (Blok M - Kota)\n"
   ]
  },
  {
   "cell_type": "code",
   "execution_count": 169,
   "metadata": {},
   "outputs": [
    {
     "data": {
      "text/html": [
       "<div>\n",
       "<style scoped>\n",
       "    .dataframe tbody tr th:only-of-type {\n",
       "        vertical-align: middle;\n",
       "    }\n",
       "\n",
       "    .dataframe tbody tr th {\n",
       "        vertical-align: top;\n",
       "    }\n",
       "\n",
       "    .dataframe thead th {\n",
       "        text-align: right;\n",
       "    }\n",
       "</style>\n",
       "<table border=\"1\" class=\"dataframe\">\n",
       "  <thead>\n",
       "    <tr style=\"text-align: right;\">\n",
       "      <th></th>\n",
       "      <th>tahun</th>\n",
       "      <th>bulan</th>\n",
       "      <th>jenis</th>\n",
       "      <th>kode_trayek</th>\n",
       "      <th>trayek</th>\n",
       "      <th>jumlah_penumpang</th>\n",
       "    </tr>\n",
       "  </thead>\n",
       "  <tbody>\n",
       "    <tr>\n",
       "      <th>572</th>\n",
       "      <td>2021</td>\n",
       "      <td>1</td>\n",
       "      <td>BRT</td>\n",
       "      <td>1</td>\n",
       "      <td>Blok M - Kota</td>\n",
       "      <td>773717</td>\n",
       "    </tr>\n",
       "    <tr>\n",
       "      <th>1061</th>\n",
       "      <td>2021</td>\n",
       "      <td>2</td>\n",
       "      <td>BRT</td>\n",
       "      <td>1</td>\n",
       "      <td>Blok M - Kota</td>\n",
       "      <td>799708</td>\n",
       "    </tr>\n",
       "    <tr>\n",
       "      <th>328</th>\n",
       "      <td>2021</td>\n",
       "      <td>3</td>\n",
       "      <td>BRT</td>\n",
       "      <td>1</td>\n",
       "      <td>Blok M - Kota</td>\n",
       "      <td>1013221</td>\n",
       "    </tr>\n",
       "    <tr>\n",
       "      <th>1306</th>\n",
       "      <td>2021</td>\n",
       "      <td>4</td>\n",
       "      <td>BRT</td>\n",
       "      <td>1</td>\n",
       "      <td>Blok M - Kota</td>\n",
       "      <td>1003534</td>\n",
       "    </tr>\n",
       "    <tr>\n",
       "      <th>692</th>\n",
       "      <td>2021</td>\n",
       "      <td>5</td>\n",
       "      <td>BRT</td>\n",
       "      <td>1</td>\n",
       "      <td>Blok M - Kota</td>\n",
       "      <td>937452</td>\n",
       "    </tr>\n",
       "    <tr>\n",
       "      <th>450</th>\n",
       "      <td>2021</td>\n",
       "      <td>6</td>\n",
       "      <td>BRT</td>\n",
       "      <td>1</td>\n",
       "      <td>Blok M - Kota</td>\n",
       "      <td>899829</td>\n",
       "    </tr>\n",
       "    <tr>\n",
       "      <th>1182</th>\n",
       "      <td>2021</td>\n",
       "      <td>7</td>\n",
       "      <td>BRT</td>\n",
       "      <td>1</td>\n",
       "      <td>Blok M - Kota</td>\n",
       "      <td>344528</td>\n",
       "    </tr>\n",
       "    <tr>\n",
       "      <th>204</th>\n",
       "      <td>2021</td>\n",
       "      <td>8</td>\n",
       "      <td>BRT</td>\n",
       "      <td>1</td>\n",
       "      <td>Blok M - Kota</td>\n",
       "      <td>462959</td>\n",
       "    </tr>\n",
       "    <tr>\n",
       "      <th>939</th>\n",
       "      <td>2021</td>\n",
       "      <td>9</td>\n",
       "      <td>BRT</td>\n",
       "      <td>1</td>\n",
       "      <td>Blok M - Kota</td>\n",
       "      <td>735653</td>\n",
       "    </tr>\n",
       "    <tr>\n",
       "      <th>82</th>\n",
       "      <td>2021</td>\n",
       "      <td>10</td>\n",
       "      <td>BRT</td>\n",
       "      <td>1</td>\n",
       "      <td>Blok M - Kota</td>\n",
       "      <td>903783</td>\n",
       "    </tr>\n",
       "    <tr>\n",
       "      <th>1428</th>\n",
       "      <td>2021</td>\n",
       "      <td>11</td>\n",
       "      <td>BRT</td>\n",
       "      <td>1</td>\n",
       "      <td>Blok M - Kota</td>\n",
       "      <td>1073929</td>\n",
       "    </tr>\n",
       "    <tr>\n",
       "      <th>819</th>\n",
       "      <td>2021</td>\n",
       "      <td>12</td>\n",
       "      <td>BRT</td>\n",
       "      <td>1</td>\n",
       "      <td>Blok M - Kota</td>\n",
       "      <td>1131439</td>\n",
       "    </tr>\n",
       "  </tbody>\n",
       "</table>\n",
       "</div>"
      ],
      "text/plain": [
       "      tahun  bulan jenis kode_trayek         trayek  jumlah_penumpang\n",
       "572   2021   1      BRT   1           Blok M - Kota  773717          \n",
       "1061  2021   2      BRT   1           Blok M - Kota  799708          \n",
       "328   2021   3      BRT   1           Blok M - Kota  1013221         \n",
       "1306  2021   4      BRT   1           Blok M - Kota  1003534         \n",
       "692   2021   5      BRT   1           Blok M - Kota  937452          \n",
       "450   2021   6      BRT   1           Blok M - Kota  899829          \n",
       "1182  2021   7      BRT   1           Blok M - Kota  344528          \n",
       "204   2021   8      BRT   1           Blok M - Kota  462959          \n",
       "939   2021   9      BRT   1           Blok M - Kota  735653          \n",
       "82    2021   10     BRT   1           Blok M - Kota  903783          \n",
       "1428  2021   11     BRT   1           Blok M - Kota  1073929         \n",
       "819   2021   12     BRT   1           Blok M - Kota  1131439         "
      ]
     },
     "execution_count": 169,
     "metadata": {},
     "output_type": "execute_result"
    }
   ],
   "source": [
    "df2 = df[df['trayek'] == 'Blok M - Kota'].sort_values(by = 'bulan')\n",
    "df2"
   ]
  },
  {
   "cell_type": "code",
   "execution_count": 170,
   "metadata": {},
   "outputs": [
    {
     "data": {
      "text/html": [
       "<div>\n",
       "<style scoped>\n",
       "    .dataframe tbody tr th:only-of-type {\n",
       "        vertical-align: middle;\n",
       "    }\n",
       "\n",
       "    .dataframe tbody tr th {\n",
       "        vertical-align: top;\n",
       "    }\n",
       "\n",
       "    .dataframe thead th {\n",
       "        text-align: right;\n",
       "    }\n",
       "</style>\n",
       "<table border=\"1\" class=\"dataframe\">\n",
       "  <thead>\n",
       "    <tr style=\"text-align: right;\">\n",
       "      <th></th>\n",
       "      <th>tahun</th>\n",
       "      <th>bulan</th>\n",
       "      <th>jenis</th>\n",
       "      <th>trayek</th>\n",
       "      <th>jumlah_penumpang</th>\n",
       "    </tr>\n",
       "  </thead>\n",
       "  <tbody>\n",
       "    <tr>\n",
       "      <th>37</th>\n",
       "      <td>2021</td>\n",
       "      <td>1</td>\n",
       "      <td>BRT</td>\n",
       "      <td>Blok M - Kota</td>\n",
       "      <td>773717</td>\n",
       "    </tr>\n",
       "    <tr>\n",
       "      <th>155</th>\n",
       "      <td>2021</td>\n",
       "      <td>2</td>\n",
       "      <td>BRT</td>\n",
       "      <td>Blok M - Kota</td>\n",
       "      <td>799708</td>\n",
       "    </tr>\n",
       "    <tr>\n",
       "      <th>276</th>\n",
       "      <td>2021</td>\n",
       "      <td>3</td>\n",
       "      <td>BRT</td>\n",
       "      <td>Blok M - Kota</td>\n",
       "      <td>1013221</td>\n",
       "    </tr>\n",
       "    <tr>\n",
       "      <th>397</th>\n",
       "      <td>2021</td>\n",
       "      <td>4</td>\n",
       "      <td>BRT</td>\n",
       "      <td>Blok M - Kota</td>\n",
       "      <td>1003534</td>\n",
       "    </tr>\n",
       "    <tr>\n",
       "      <th>521</th>\n",
       "      <td>2021</td>\n",
       "      <td>5</td>\n",
       "      <td>BRT</td>\n",
       "      <td>Blok M - Kota</td>\n",
       "      <td>937452</td>\n",
       "    </tr>\n",
       "    <tr>\n",
       "      <th>642</th>\n",
       "      <td>2021</td>\n",
       "      <td>6</td>\n",
       "      <td>BRT</td>\n",
       "      <td>Blok M - Kota</td>\n",
       "      <td>899829</td>\n",
       "    </tr>\n",
       "    <tr>\n",
       "      <th>765</th>\n",
       "      <td>2021</td>\n",
       "      <td>7</td>\n",
       "      <td>BRT</td>\n",
       "      <td>Blok M - Kota</td>\n",
       "      <td>344528</td>\n",
       "    </tr>\n",
       "    <tr>\n",
       "      <th>888</th>\n",
       "      <td>2021</td>\n",
       "      <td>8</td>\n",
       "      <td>BRT</td>\n",
       "      <td>Blok M - Kota</td>\n",
       "      <td>462959</td>\n",
       "    </tr>\n",
       "    <tr>\n",
       "      <th>1009</th>\n",
       "      <td>2021</td>\n",
       "      <td>9</td>\n",
       "      <td>BRT</td>\n",
       "      <td>Blok M - Kota</td>\n",
       "      <td>735653</td>\n",
       "    </tr>\n",
       "    <tr>\n",
       "      <th>1130</th>\n",
       "      <td>2021</td>\n",
       "      <td>10</td>\n",
       "      <td>BRT</td>\n",
       "      <td>Blok M - Kota</td>\n",
       "      <td>903783</td>\n",
       "    </tr>\n",
       "    <tr>\n",
       "      <th>1255</th>\n",
       "      <td>2021</td>\n",
       "      <td>11</td>\n",
       "      <td>BRT</td>\n",
       "      <td>Blok M - Kota</td>\n",
       "      <td>1073929</td>\n",
       "    </tr>\n",
       "    <tr>\n",
       "      <th>1376</th>\n",
       "      <td>2021</td>\n",
       "      <td>12</td>\n",
       "      <td>BRT</td>\n",
       "      <td>Blok M - Kota</td>\n",
       "      <td>1131439</td>\n",
       "    </tr>\n",
       "  </tbody>\n",
       "</table>\n",
       "</div>"
      ],
      "text/plain": [
       "      tahun  bulan jenis         trayek  jumlah_penumpang\n",
       "37    2021   1      BRT   Blok M - Kota  773717          \n",
       "155   2021   2      BRT   Blok M - Kota  799708          \n",
       "276   2021   3      BRT   Blok M - Kota  1013221         \n",
       "397   2021   4      BRT   Blok M - Kota  1003534         \n",
       "521   2021   5      BRT   Blok M - Kota  937452          \n",
       "642   2021   6      BRT   Blok M - Kota  899829          \n",
       "765   2021   7      BRT   Blok M - Kota  344528          \n",
       "888   2021   8      BRT   Blok M - Kota  462959          \n",
       "1009  2021   9      BRT   Blok M - Kota  735653          \n",
       "1130  2021   10     BRT   Blok M - Kota  903783          \n",
       "1255  2021   11     BRT   Blok M - Kota  1073929         \n",
       "1376  2021   12     BRT   Blok M - Kota  1131439         "
      ]
     },
     "execution_count": 170,
     "metadata": {},
     "output_type": "execute_result"
    }
   ],
   "source": [
    "df_gabung = df.groupby(['tahun', 'bulan', 'jenis', 'trayek'])['jumlah_penumpang'].sum().reset_index()\n",
    "df2 = df_gabung[df_gabung['trayek'] == 'Blok M - Kota'].sort_values(by = 'bulan')\n",
    "df2"
   ]
  },
  {
   "cell_type": "markdown",
   "metadata": {},
   "source": [
    "### Line Plot"
   ]
  },
  {
   "cell_type": "code",
   "execution_count": 171,
   "metadata": {},
   "outputs": [
    {
     "data": {
      "text/plain": [
       "Text(0.5, 1.0, 'Blok M - Kota')"
      ]
     },
     "execution_count": 171,
     "metadata": {},
     "output_type": "execute_result"
    },
    {
     "data": {
      "image/png": "[encoded data removed]",
      "text/plain": [
       "<Figure size 640x480 with 1 Axes>"
      ]
     },
     "metadata": {},
     "output_type": "display_data"
    }
   ],
   "source": [
    "plt.plot(df2['bulan'], df2['jumlah_penumpang'], marker='o', linestyle='-', color='blue')\n",
    "plt.xlabel('Bulan')\n",
    "plt.ylabel('Jumlah Penumpang')\n",
    "plt.grid(True, linestyle='--', alpha=0.5)\n",
    "plt.title('Blok M - Kota')"
   ]
  },
  {
   "cell_type": "markdown",
   "metadata": {},
   "source": [
    "Grafik line plot tersebut terlihat jumlah penumpang menurun pada bulan 7 dan jumlah penumpang tertinggi berada pada bulan 12. sehingga diagram tersebut menunjukkan diagram yang fluktuasi."
   ]
  },
  {
   "cell_type": "markdown",
   "metadata": {},
   "source": [
    "### Uji Mann Whitney"
   ]
  },
  {
   "cell_type": "markdown",
   "metadata": {},
   "source": [
    "1. Hipotesis\n",
    "- H0 : Tidak ada perbedaan antara kedua kelompok \n",
    "- H1 : Terdapat perbedaan antara kedua kelompok \n",
    "2. Tingkat Signifikansi\n",
    "α = 5% = 0.05\n",
    "3. Daerah Kritis\n",
    "Tolak H0 jika P-value < α"
   ]
  },
  {
   "cell_type": "code",
   "execution_count": 181,
   "metadata": {},
   "outputs": [
    {
     "data": {
      "text/plain": [
       "(21.0, 0.6991341991341992)"
      ]
     },
     "execution_count": 181,
     "metadata": {},
     "output_type": "execute_result"
    }
   ],
   "source": [
    "jumlah_penumpang1 = df2['jumlah_penumpang'][:6]\n",
    "jumlah_penumpang2 = df2['jumlah_penumpang'][6:]\n",
    "\n",
    "U, mw_p_value = stats.mannwhitneyu(jumlah_penumpang1, jumlah_penumpang2, alternative='two-sided')\n",
    "U, mw_p_value"
   ]
  },
  {
   "cell_type": "code",
   "execution_count": 182,
   "metadata": {},
   "outputs": [
    {
     "name": "stdout",
     "output_type": "stream",
     "text": [
      "P-Value: 0.6991341991341992, Dibutuhkan penambahan armada pada trayek Blok M - Kota\n"
     ]
    }
   ],
   "source": [
    "if mw_p_value > 0.05:\n",
    "  print(f'P-Value: {mw_p_value}, Dibutuhkan penambahan armada pada trayek Blok M - Kota')\n",
    "else:\n",
    "  print(f'P-Value: {mw_p_value}, Tidak dibutuhkan penambahan armada pada trayek Blok M - Kota')"
   ]
  },
  {
   "cell_type": "markdown",
   "metadata": {},
   "source": [
    "4. Statistik Uji\n",
    "p-value = 0.6991341991341992\n",
    "α = 0,05\n",
    "Sehingga p-value (0.6991341991341992) > (0,05)\n",
    "5. Keputusan\n",
    "Karena nilai p-value (0.6991341991341992) < (0,05) maka keputusannya adalah gagal tolak H0."
   ]
  },
  {
   "cell_type": "markdown",
   "metadata": {},
   "source": [
    "Berdasarkan hasil ini, dapat menyimpulkan bahwa tidak ada perbedaan yang signifikan antara jumlah penumpang dalam kelompok 1 (bulan 1-6) dan kelompok 2 (bulan 7-12) pada trayek Blok M - Kota dan selalu mengalami kenaikan."
   ]
  },
  {
   "cell_type": "markdown",
   "metadata": {},
   "source": [
    "# Kesimpulan dan Rekomendasi\n",
    "\n",
    "Dari analisis yang telah dilakukan, kita bisa membuat kesimpulan berikut tetang kandidat yang ingin direkrut:\n",
    "1. Trayek Blok M - Kota merupakan top 10 trayek paling banyak, yaitu dengan total 12 keberangkatan selama 12 bulan di tahun 2021\n",
    "2. Jumlah Penumpang Terbanyak berada pada trayek Blok M - Jakarta sebesar 107.079.752.\n",
    "3. Keberangkatan dengan jumlah penumpang paling sedikit adalah pada bulan 7 dengan total penumpang 344528, dan Keberangkatan dengan jumlah penumpang paling banyak adalah pada bulan 12 dengan total penumpang 1131439.\n",
    "4. Nilai statistik sebesar 21.0 merujuk pada nilai U atau W dalam uji Mann-Whitney. Ini adalah jumlah peringkat dari salah satu kelompok yang lebih rendah dari yang diharapkan jika kedua kelompok berasal dari distribusi yang sama. Artinya uji U 21.0 yang mengindikasikan jumlah peringkat yang lebih rendah dari kelompok 1 dibandingkan dengan kelompok 2.\n",
    "5. Nilai p-value adalah nilai probabilitas yang menunjukkan signifikansi statistik dari perbedaan antara kedua kelompok. Dalam kasus ini, nilai p-value adalah 0.6991341991341992, maka tingkat signifikansi sebesar 0.6991341991341992 lebih besar dari 0.05, maka tidak ada cukup bukti untuk menolak hipotesis nol, yang berarti tidak ada perbedaan yang signifikan antara kedua kelompok dalam hal jumlah penumpang.\n",
    "\n",
    "\n",
    "Rekomendasi dari hasil analisis yang diperoleh antara lain:\n",
    "\n",
    "1. Dalam hasil Uji Mann-Whitney,  nilai p-value adalah 0.6991341991341992 yaitu gagal tolak H0 maka dibutuhkan penambahan armada pada trayek Blok M - Kota.\n",
    "2. Dengan kenaikan tren setiap bulannya sehingga kepadatan penumpang akan lebih banyak di tahun 2022 \n",
    "3. Dibutuhkan penambahan armada BRT di trayek Blok M - Kota\n",
    "4. Mengalokasikan BRT di bulan 10 hingga bulan 12 lebih banyak dikarenakan kenaikan jumlah penumpang yang tinggi"
   ]
  }
 ],
 "metadata": {
  "kernelspec": {
   "display_name": "Python 3",
   "language": "python",
   "name": "python3"
  },
  "language_info": {
   "codemirror_mode": {
    "name": "ipython",
    "version": 3
   },
   "file_extension": ".py",
   "mimetype": "text/x-python",
   "name": "python",
   "nbconvert_exporter": "python",
   "pygments_lexer": "ipython3",
   "version": "3.10.1"
  },
  "orig_nbformat": 4
 },
 "nbformat": 4,
 "nbformat_minor": 2
}
